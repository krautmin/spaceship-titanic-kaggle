{
 "cells": [
  {
   "cell_type": "markdown",
   "metadata": {},
   "source": [
    "# Spaceship Titanic - EDA + Random Forest (Work in Progress)"
   ]
  },
  {
   "cell_type": "markdown",
   "metadata": {},
   "source": [
    "> Welcome to the year 2912, where your data science skills are needed to solve a cosmic mystery. We've received a transmission from four lightyears away and things aren't looking good.\n",
    "> The Spaceship Titanic was an interstellar passenger liner launched a month ago. With almost 13,000 passengers on board, the vessel set out on its maiden voyage transporting emigrants from our solar system to three newly habitable exoplanets orbiting nearby stars.\n",
    "> While rounding Alpha Centauri en route to its first destination—the torrid 55 Cancri E—the unwary Spaceship Titanic collided with a spacetime anomaly hidden within a dust cloud. Sadly, it met a similar fate as its namesake from 1000 years before. Though the ship stayed intact, almost half of the passengers were transported to an alternate dimension\n",
    "> **To help rescue crews and retrieve the lost passengers, you are challenged to predict which passengers were transported by the anomaly using records recovered from the spaceship’s damaged computer system. Help save them and change history!**\n",
    "\n",
    "[Link to the competition](https://www.kaggle.com/competitions/spaceship-titanic/overview)"
   ]
  },
  {
   "cell_type": "markdown",
   "metadata": {},
   "source": [
    "## Variables\n",
    "- **HomePlanet** - The planet the passenger departed from.\n",
    "- **CryoSleep** - Indicates whether the passenger elected to be put into suspended animation for the duration of the voyage.\n",
    "- **Cabin** - The cabin number where the passenger is staying. Takes the form deck/num/side, where side can be either P for Port or S for Starboard.\n",
    "- **Destination** - The planet the passenger will be debarking to.\n",
    "- **Age** - The age of the passenger.\n",
    "- **VIP** - Whether the passenger has paid for special VIP service during the voyage.\n",
    "- **RoomService**, **FoodCourt**, **ShoppingMall**, **Spa**, **VRDeck** - Amount the passenger has billed at each of the Spaceship Titanic's many luxury amenities.\n",
    "- **Name** - The first and last names of the passenger.\n",
    "- **Transported** - Whether the passenger was transported to another dimension. This is the **target column**."
   ]
  },
  {
   "cell_type": "markdown",
   "metadata": {},
   "source": [
    "## Goal\n",
    "The competition is a binary classification problem with two possible outcomes of the voyage in space: the passenger has either been transported to another dimension (`True`) or not (`False`). The main metric for the competition is classification `accuracy`."
   ]
  },
  {
   "cell_type": "code",
   "execution_count": 1,
   "metadata": {
    "collapsed": false,
    "jupyter": {
     "outputs_hidden": false
    }
   },
   "outputs": [],
   "source": [
    "import numpy as np\n",
    "import pandas as pd\n",
    "import matplotlib.pyplot as plt\n",
    "import seaborn as sns\n",
    "import plotly.express as px\n",
    "%matplotlib inline"
   ]
  },
  {
   "cell_type": "code",
   "execution_count": null,
   "metadata": {
    "collapsed": false,
    "jupyter": {
     "outputs_hidden": false
    }
   },
   "outputs": [],
   "source": [
    "df = pd.read_csv(\"/kaggle/input/spaceship-titanic/train.csv\")\n",
    "df.head()"
   ]
  },
  {
   "cell_type": "code",
   "execution_count": null,
   "metadata": {
    "collapsed": false,
    "jupyter": {
     "outputs_hidden": false
    }
   },
   "outputs": [],
   "source": [
    "print(df.info())\n",
    "display(df.describe())\n",
    "display(df.describe(exclude=np.number))"
   ]
  },
  {
   "cell_type": "code",
   "execution_count": null,
   "metadata": {
    "collapsed": false,
    "jupyter": {
     "outputs_hidden": false
    }
   },
   "outputs": [],
   "source": [
    "display(df.shape)\n",
    "display(df.duplicated().sum())\n",
    "display(df.nunique())\n",
    "display(df.isna().sum())"
   ]
  },
  {
   "cell_type": "code",
   "execution_count": null,
   "metadata": {
    "collapsed": false,
    "jupyter": {
     "outputs_hidden": false
    }
   },
   "outputs": [],
   "source": [
    "print(df.HomePlanet.value_counts(), \"\\n\")\n",
    "print(df.CryoSleep.value_counts(), \"\\n\")\n",
    "print(df.Destination.value_counts(), \"\\n\")\n",
    "print(df.VIP.value_counts())"
   ]
  },
  {
   "cell_type": "code",
   "execution_count": null,
   "metadata": {
    "collapsed": false,
    "jupyter": {
     "outputs_hidden": false
    }
   },
   "outputs": [],
   "source": [
    "fig = px.histogram(df, x=\"Age\", color=\"Transported\")\n",
    "fig.show()"
   ]
  },
  {
   "cell_type": "code",
   "execution_count": null,
   "metadata": {
    "collapsed": false,
    "jupyter": {
     "outputs_hidden": false
    }
   },
   "outputs": [],
   "source": [
    "fig = px.histogram(df, x=\"RoomService\", color=\"Transported\")\n",
    "fig.show()"
   ]
  },
  {
   "cell_type": "code",
   "execution_count": null,
   "metadata": {
    "collapsed": false,
    "jupyter": {
     "outputs_hidden": false
    }
   },
   "outputs": [],
   "source": [
    "pd.crosstab(index=df.Transported, columns=\"perc\", normalize=True)"
   ]
  },
  {
   "cell_type": "code",
   "execution_count": null,
   "metadata": {
    "collapsed": false,
    "jupyter": {
     "outputs_hidden": false
    }
   },
   "outputs": [],
   "source": [
    "pd.crosstab(index=df.HomePlanet, columns=df.Transported, normalize=\"index\")"
   ]
  },
  {
   "cell_type": "code",
   "execution_count": null,
   "metadata": {
    "collapsed": false,
    "jupyter": {
     "outputs_hidden": false
    }
   },
   "outputs": [],
   "source": [
    "pd.crosstab(index=df.CryoSleep, columns=df.Transported, normalize=\"index\")"
   ]
  },
  {
   "cell_type": "code",
   "execution_count": null,
   "metadata": {
    "collapsed": false,
    "jupyter": {
     "outputs_hidden": false
    }
   },
   "outputs": [],
   "source": [
    "pd.crosstab(index=df.Destination, columns=df.Transported, normalize=\"index\")"
   ]
  },
  {
   "cell_type": "code",
   "execution_count": null,
   "metadata": {
    "collapsed": false,
    "jupyter": {
     "outputs_hidden": false
    }
   },
   "outputs": [],
   "source": [
    "pd.crosstab(index=df.Age, columns=df.Transported, normalize=\"index\")"
   ]
  },
  {
   "cell_type": "code",
   "execution_count": null,
   "metadata": {
    "collapsed": false,
    "jupyter": {
     "outputs_hidden": false
    }
   },
   "outputs": [],
   "source": [
    "pd.crosstab(index=df.VIP, columns=df.Transported, normalize=\"index\")"
   ]
  },
  {
   "cell_type": "code",
   "execution_count": null,
   "metadata": {
    "collapsed": false,
    "jupyter": {
     "outputs_hidden": false
    }
   },
   "outputs": [],
   "source": [
    "fig = px.imshow(df.corr(), text_auto=True, width=800, height=800)\n",
    "fig.show()"
   ]
  },
  {
   "cell_type": "markdown",
   "metadata": {},
   "source": [
    "## Data Transformation"
   ]
  },
  {
   "cell_type": "code",
   "execution_count": null,
   "metadata": {
    "collapsed": false,
    "jupyter": {
     "outputs_hidden": false
    }
   },
   "outputs": [],
   "source": [
    "df.isna().sum()"
   ]
  },
  {
   "cell_type": "code",
   "execution_count": 232,
   "metadata": {
    "collapsed": false,
    "jupyter": {
     "outputs_hidden": false
    }
   },
   "outputs": [],
   "source": [
    "from sklearn.model_selection import train_test_split\n",
    "\n",
    "df = pd.read_csv(\"data/raw/train.csv\")\n",
    "df[\"Missingness\"] = df.isna().sum(axis=1)\n",
    "df[[\"CabinDeck\", \"CabinNumber\", \"CabinSide\"]] = df.Cabin.str.split(\"/\", expand=True)\n",
    "df[[\"GroupId\", \"GroupNum\"]] = df.PassengerId.str.split(\"_\", expand=True)\n",
    "df[[\"FirstName\", \"LastName\"]] = df.loc[:, \"Name\"].str.split(expand=True)\n",
    "df[\"GroupSize\"] = df.groupby(\"GroupId\")[\"GroupId\"].transform(\"count\")\n",
    "df[\"Solo\"] = df.GroupSize == 1\n",
    "df[\"TotalSpending\"] = (\n",
    "    df[\"RoomService\"]\n",
    "    + df[\"FoodCourt\"]\n",
    "    + df[\"ShoppingMall\"]\n",
    "    + df[\"Spa\"]\n",
    "    + df[\"VRDeck\"]\n",
    ")\n",
    "df[\"NoSpending\"] = df[\"TotalSpending\"] == 0\n",
    "df = df.fillna(df.mode().iloc[0])\n",
    "\n",
    "features = df.drop(\"Transported\", axis=1)\n",
    "target = df.set_index(\"PassengerId\").loc[:, \"Transported\"].astype(int)\n",
    "\n",
    "features_train, features_test, target_train, target_test = train_test_split(\n",
    "    features, target, test_size=0.3, random_state=42\n",
    ")"
   ]
  },
  {
   "cell_type": "code",
   "execution_count": 233,
   "metadata": {
    "collapsed": false,
    "jupyter": {
     "outputs_hidden": false
    }
   },
   "outputs": [],
   "source": [
    "import pdpipe as pdp\n",
    "\n",
    "preprocessing = pdp.PdPipeline(\n",
    "    [\n",
    "        pdp.df.set_index(\"PassengerId\"),\n",
    "        pdp.Encode([\"CryoSleep\", \"VIP\", \"CabinSide\", \"Solo\", \"NoSpending\"]),\n",
    "        pdp.OneHotEncode([\"HomePlanet\", \"Destination\", \"CabinDeck\", \"Missingness\"], drop_first=True),\n",
    "        pdp.Log([\"RoomService\", \"FoodCourt\", \"ShoppingMall\", \"Spa\", \"VRDeck\", \"TotalSpending\"], drop=True, const_shift=1),\n",
    "        pdp.Scale(\"MinMaxScaler\"),\n",
    "        pdp.ColDrop([\"Cabin\", \"Name\", \"CabinNumber\", \"GroupId\", \"GroupNum\", \"FirstName\", \"LastName\"])\n",
    "    ]\n",
    ")"
   ]
  },
  {
   "cell_type": "code",
   "execution_count": 234,
   "metadata": {
    "collapsed": false,
    "jupyter": {
     "outputs_hidden": false
    }
   },
   "outputs": [],
   "source": [
    "features_train_clean = preprocessing.fit_transform(features_train)\n",
    "features_test_clean = preprocessing.transform(features_test)"
   ]
  },
  {
   "cell_type": "code",
   "execution_count": 227,
   "metadata": {
    "collapsed": false,
    "jupyter": {
     "outputs_hidden": false
    }
   },
   "outputs": [
    {
     "data": {
      "text/html": [
       "<div>\n",
       "<style scoped>\n",
       "    .dataframe tbody tr th:only-of-type {\n",
       "        vertical-align: middle;\n",
       "    }\n",
       "\n",
       "    .dataframe tbody tr th {\n",
       "        vertical-align: top;\n",
       "    }\n",
       "\n",
       "    .dataframe thead th {\n",
       "        text-align: right;\n",
       "    }\n",
       "</style>\n",
       "<table border=\"1\" class=\"dataframe\">\n",
       "  <thead>\n",
       "    <tr style=\"text-align: right;\">\n",
       "      <th></th>\n",
       "      <th>CryoSleep</th>\n",
       "      <th>Age</th>\n",
       "      <th>VIP</th>\n",
       "      <th>RoomService</th>\n",
       "      <th>FoodCourt</th>\n",
       "      <th>ShoppingMall</th>\n",
       "      <th>Spa</th>\n",
       "      <th>VRDeck</th>\n",
       "      <th>CabinSide</th>\n",
       "      <th>GroupSize</th>\n",
       "      <th>...</th>\n",
       "      <th>CabinDeck_B</th>\n",
       "      <th>CabinDeck_C</th>\n",
       "      <th>CabinDeck_D</th>\n",
       "      <th>CabinDeck_E</th>\n",
       "      <th>CabinDeck_F</th>\n",
       "      <th>CabinDeck_G</th>\n",
       "      <th>CabinDeck_T</th>\n",
       "      <th>Missingness_1</th>\n",
       "      <th>Missingness_2</th>\n",
       "      <th>Missingness_3</th>\n",
       "    </tr>\n",
       "    <tr>\n",
       "      <th>PassengerId</th>\n",
       "      <th></th>\n",
       "      <th></th>\n",
       "      <th></th>\n",
       "      <th></th>\n",
       "      <th></th>\n",
       "      <th></th>\n",
       "      <th></th>\n",
       "      <th></th>\n",
       "      <th></th>\n",
       "      <th></th>\n",
       "      <th></th>\n",
       "      <th></th>\n",
       "      <th></th>\n",
       "      <th></th>\n",
       "      <th></th>\n",
       "      <th></th>\n",
       "      <th></th>\n",
       "      <th></th>\n",
       "      <th></th>\n",
       "      <th></th>\n",
       "      <th></th>\n",
       "    </tr>\n",
       "  </thead>\n",
       "  <tbody>\n",
       "    <tr>\n",
       "      <th>3282_03</th>\n",
       "      <td>0.0</td>\n",
       "      <td>0.544304</td>\n",
       "      <td>0.0</td>\n",
       "      <td>0.000000</td>\n",
       "      <td>0.710954</td>\n",
       "      <td>0.000000</td>\n",
       "      <td>0.453163</td>\n",
       "      <td>0.497185</td>\n",
       "      <td>1.0</td>\n",
       "      <td>0.285714</td>\n",
       "      <td>...</td>\n",
       "      <td>1.0</td>\n",
       "      <td>0.0</td>\n",
       "      <td>0.0</td>\n",
       "      <td>0.0</td>\n",
       "      <td>0.0</td>\n",
       "      <td>0.0</td>\n",
       "      <td>0.0</td>\n",
       "      <td>0.0</td>\n",
       "      <td>0.0</td>\n",
       "      <td>0.0</td>\n",
       "    </tr>\n",
       "    <tr>\n",
       "      <th>8276_02</th>\n",
       "      <td>1.0</td>\n",
       "      <td>0.291139</td>\n",
       "      <td>0.0</td>\n",
       "      <td>0.000000</td>\n",
       "      <td>0.000000</td>\n",
       "      <td>0.000000</td>\n",
       "      <td>0.000000</td>\n",
       "      <td>0.000000</td>\n",
       "      <td>0.0</td>\n",
       "      <td>0.142857</td>\n",
       "      <td>...</td>\n",
       "      <td>0.0</td>\n",
       "      <td>1.0</td>\n",
       "      <td>0.0</td>\n",
       "      <td>0.0</td>\n",
       "      <td>0.0</td>\n",
       "      <td>0.0</td>\n",
       "      <td>0.0</td>\n",
       "      <td>0.0</td>\n",
       "      <td>0.0</td>\n",
       "      <td>0.0</td>\n",
       "    </tr>\n",
       "    <tr>\n",
       "      <th>1911_01</th>\n",
       "      <td>0.0</td>\n",
       "      <td>0.582278</td>\n",
       "      <td>0.0</td>\n",
       "      <td>0.229596</td>\n",
       "      <td>0.633582</td>\n",
       "      <td>0.000000</td>\n",
       "      <td>0.182285</td>\n",
       "      <td>0.447001</td>\n",
       "      <td>1.0</td>\n",
       "      <td>0.000000</td>\n",
       "      <td>...</td>\n",
       "      <td>0.0</td>\n",
       "      <td>0.0</td>\n",
       "      <td>0.0</td>\n",
       "      <td>0.0</td>\n",
       "      <td>0.0</td>\n",
       "      <td>1.0</td>\n",
       "      <td>0.0</td>\n",
       "      <td>0.0</td>\n",
       "      <td>0.0</td>\n",
       "      <td>0.0</td>\n",
       "    </tr>\n",
       "    <tr>\n",
       "      <th>1808_01</th>\n",
       "      <td>0.0</td>\n",
       "      <td>0.417722</td>\n",
       "      <td>0.0</td>\n",
       "      <td>0.000000</td>\n",
       "      <td>0.648928</td>\n",
       "      <td>0.218315</td>\n",
       "      <td>0.111767</td>\n",
       "      <td>0.340289</td>\n",
       "      <td>1.0</td>\n",
       "      <td>0.000000</td>\n",
       "      <td>...</td>\n",
       "      <td>0.0</td>\n",
       "      <td>0.0</td>\n",
       "      <td>0.0</td>\n",
       "      <td>0.0</td>\n",
       "      <td>1.0</td>\n",
       "      <td>0.0</td>\n",
       "      <td>0.0</td>\n",
       "      <td>0.0</td>\n",
       "      <td>0.0</td>\n",
       "      <td>0.0</td>\n",
       "    </tr>\n",
       "    <tr>\n",
       "      <th>6995_01</th>\n",
       "      <td>0.0</td>\n",
       "      <td>0.303797</td>\n",
       "      <td>0.0</td>\n",
       "      <td>0.000000</td>\n",
       "      <td>0.398584</td>\n",
       "      <td>0.638694</td>\n",
       "      <td>0.000000</td>\n",
       "      <td>0.370383</td>\n",
       "      <td>1.0</td>\n",
       "      <td>0.000000</td>\n",
       "      <td>...</td>\n",
       "      <td>0.0</td>\n",
       "      <td>0.0</td>\n",
       "      <td>0.0</td>\n",
       "      <td>0.0</td>\n",
       "      <td>1.0</td>\n",
       "      <td>0.0</td>\n",
       "      <td>0.0</td>\n",
       "      <td>0.0</td>\n",
       "      <td>0.0</td>\n",
       "      <td>0.0</td>\n",
       "    </tr>\n",
       "  </tbody>\n",
       "</table>\n",
       "<p>5 rows × 31 columns</p>\n",
       "</div>"
      ],
      "text/plain": [
       "             CryoSleep       Age  VIP  RoomService  FoodCourt  ShoppingMall  \\\n",
       "PassengerId                                                                   \n",
       "3282_03            0.0  0.544304  0.0     0.000000   0.710954      0.000000   \n",
       "8276_02            1.0  0.291139  0.0     0.000000   0.000000      0.000000   \n",
       "1911_01            0.0  0.582278  0.0     0.229596   0.633582      0.000000   \n",
       "1808_01            0.0  0.417722  0.0     0.000000   0.648928      0.218315   \n",
       "6995_01            0.0  0.303797  0.0     0.000000   0.398584      0.638694   \n",
       "\n",
       "                  Spa    VRDeck  CabinSide  GroupSize  ...  CabinDeck_B  \\\n",
       "PassengerId                                            ...                \n",
       "3282_03      0.453163  0.497185        1.0   0.285714  ...          1.0   \n",
       "8276_02      0.000000  0.000000        0.0   0.142857  ...          0.0   \n",
       "1911_01      0.182285  0.447001        1.0   0.000000  ...          0.0   \n",
       "1808_01      0.111767  0.340289        1.0   0.000000  ...          0.0   \n",
       "6995_01      0.000000  0.370383        1.0   0.000000  ...          0.0   \n",
       "\n",
       "             CabinDeck_C  CabinDeck_D  CabinDeck_E  CabinDeck_F  CabinDeck_G  \\\n",
       "PassengerId                                                                    \n",
       "3282_03              0.0          0.0          0.0          0.0          0.0   \n",
       "8276_02              1.0          0.0          0.0          0.0          0.0   \n",
       "1911_01              0.0          0.0          0.0          0.0          1.0   \n",
       "1808_01              0.0          0.0          0.0          1.0          0.0   \n",
       "6995_01              0.0          0.0          0.0          1.0          0.0   \n",
       "\n",
       "             CabinDeck_T  Missingness_1  Missingness_2  Missingness_3  \n",
       "PassengerId                                                            \n",
       "3282_03              0.0            0.0            0.0            0.0  \n",
       "8276_02              0.0            0.0            0.0            0.0  \n",
       "1911_01              0.0            0.0            0.0            0.0  \n",
       "1808_01              0.0            0.0            0.0            0.0  \n",
       "6995_01              0.0            0.0            0.0            0.0  \n",
       "\n",
       "[5 rows x 31 columns]"
      ]
     },
     "execution_count": 227,
     "metadata": {},
     "output_type": "execute_result"
    }
   ],
   "source": [
    "features_train_clean.head()"
   ]
  },
  {
   "cell_type": "code",
   "execution_count": 228,
   "metadata": {
    "collapsed": false,
    "jupyter": {
     "outputs_hidden": false
    }
   },
   "outputs": [
    {
     "data": {
      "text/plain": [
       "0.7315950920245399"
      ]
     },
     "execution_count": 228,
     "metadata": {},
     "output_type": "execute_result"
    }
   ],
   "source": [
    "from sklearn.tree import DecisionTreeClassifier\n",
    "from sklearn.metrics import accuracy_score\n",
    "\n",
    "model_base = DecisionTreeClassifier(criterion='entropy', random_state=42)\n",
    "\n",
    "model_base.fit(features_train_clean, target_train)\n",
    "target_test_pred = model_base.predict(features_test_clean)\n",
    "accuracy_score(target_test, target_test_pred)"
   ]
  },
  {
   "cell_type": "code",
   "execution_count": 229,
   "metadata": {
    "collapsed": false,
    "jupyter": {
     "outputs_hidden": false
    }
   },
   "outputs": [
    {
     "data": {
      "text/plain": [
       "0.7772239263803681"
      ]
     },
     "execution_count": 229,
     "metadata": {},
     "output_type": "execute_result"
    }
   ],
   "source": [
    "from sklearn.ensemble import RandomForestClassifier\n",
    "\n",
    "model_rf = RandomForestClassifier(random_state=42)\n",
    "\n",
    "model_rf.fit(features_train_clean, target_train)\n",
    "target_test_pred = model_rf.predict(features_test_clean)\n",
    "accuracy_score(target_test, target_test_pred)"
   ]
  },
  {
   "cell_type": "code",
   "execution_count": 241,
   "metadata": {
    "collapsed": false
   },
   "outputs": [
    {
     "data": {
      "text/plain": [
       "0.803680981595092"
      ]
     },
     "execution_count": 241,
     "metadata": {},
     "output_type": "execute_result"
    }
   ],
   "source": [
    "from catboost import CatBoostClassifier\n",
    "\n",
    "model_cat = CatBoostClassifier(verbose=0, random_state=42)\n",
    "model_cat.fit(features_train_clean, target_train)\n",
    "target_test_pred = model_cat.predict(features_test_clean)\n",
    "accuracy_score(target_test, target_test_pred)"
   ]
  },
  {
   "cell_type": "code",
   "execution_count": 242,
   "metadata": {
    "collapsed": false
   },
   "outputs": [
    {
     "data": {
      "text/plain": [
       "array([7.94884614e+00, 7.56420385e+00, 1.01512053e-01, 7.44564489e+00,\n",
       "       7.81501967e+00, 4.61814831e+00, 1.19612319e+01, 9.99811880e+00,\n",
       "       3.68920682e+00, 1.80870111e+00, 2.79174179e-01, 7.39655685e+00,\n",
       "       9.79161497e-01, 7.55419328e+00, 4.05024804e+00, 5.75290786e-01,\n",
       "       1.80600000e+00, 1.38822116e+00, 2.95644225e+00, 3.07323155e-01,\n",
       "       3.49140256e+00, 2.62632826e+00, 2.42629457e+00, 1.49430657e-03,\n",
       "       9.95053353e-01, 1.96610791e-01, 1.95714694e-02])"
      ]
     },
     "execution_count": 242,
     "metadata": {},
     "output_type": "execute_result"
    }
   ],
   "source": [
    "model_cat.feature_importances_"
   ]
  },
  {
   "cell_type": "code",
   "execution_count": 239,
   "metadata": {
    "collapsed": false
   },
   "outputs": [
    {
     "data": {
      "text/plain": [
       "{'depth': 7, 'iterations': 600, 'l2_leaf_reg': 20, 'learning_rate': 0.05}"
      ]
     },
     "execution_count": 239,
     "metadata": {},
     "output_type": "execute_result"
    }
   ],
   "source": [
    "from sklearn.model_selection import GridSearchCV\n",
    "\n",
    "model_cat = CatBoostClassifier(verbose=0, random_state=42)\n",
    "param_grid = {'iterations':[500, 600,700,800],\n",
    "              'learning_rate':[0.04, 0.05, 0.06],\n",
    "              'depth':[6,7,8],\n",
    "              'l2_leaf_reg': [10,20,30]\n",
    "             }\n",
    "\n",
    "grid_cat = GridSearchCV(estimator=model_cat, param_grid=param_grid, cv=3, scoring=\"accuracy\")\n",
    "grid_cat.fit(features_train_clean, target_train)\n",
    "grid_cat.best_params_"
   ]
  },
  {
   "cell_type": "code",
   "execution_count": 238,
   "metadata": {
    "collapsed": false
   },
   "outputs": [
    {
     "data": {
      "text/plain": [
       "0.7960122699386503"
      ]
     },
     "execution_count": 238,
     "metadata": {},
     "output_type": "execute_result"
    }
   ],
   "source": [
    "model_cat_best = CatBoostClassifier(depth=7, iterations=600, learning_rate=0.1, l2_leaf_reg=20, verbose=0, random_state=42)\n",
    "model_cat_best.fit(features_train_clean, target_train)\n",
    "target_test_pred = model_cat_best.predict(features_test_clean)\n",
    "accuracy_score(target_test, target_test_pred)"
   ]
  },
  {
   "cell_type": "code",
   "execution_count": null,
   "metadata": {
    "collapsed": false,
    "jupyter": {
     "outputs_hidden": false
    }
   },
   "outputs": [],
   "source": [
    "from sklearn.model_selection import RandomizedSearchCV# Number of trees in random forest\n",
    "n_estimators = [int(x) for x in np.linspace(start = 200, stop = 2000, num = 10)]\n",
    "\n",
    "max_features = ['auto', 'sqrt']\n",
    "\n",
    "max_depth = [int(x) for x in np.linspace(10, 110, num = 11)]\n",
    "max_depth.append(None)\n",
    "\n",
    "min_samples_split = [2, 5, 10]\n",
    "\n",
    "min_samples_leaf = [1, 2, 4]\n",
    "\n",
    "bootstrap = [True, False]\n",
    "random_grid = {'n_estimators': n_estimators,\n",
    "               'max_features': max_features,\n",
    "               'max_depth': max_depth,\n",
    "               'min_samples_split': min_samples_split,\n",
    "               'min_samples_leaf': min_samples_leaf,\n",
    "               'bootstrap': bootstrap}"
   ]
  },
  {
   "cell_type": "code",
   "execution_count": null,
   "metadata": {
    "collapsed": false,
    "jupyter": {
     "outputs_hidden": false
    }
   },
   "outputs": [],
   "source": [
    "rf_random = RandomizedSearchCV(estimator=model_rf, param_distributions=random_grid, n_iter=100, cv=3, verbose=2, random_state=42, n_jobs=-1)\n",
    "rf_random.fit(features_train_clean, target_train)"
   ]
  },
  {
   "cell_type": "code",
   "execution_count": null,
   "metadata": {
    "collapsed": false,
    "jupyter": {
     "outputs_hidden": false
    }
   },
   "outputs": [],
   "source": [
    "rf_random.best_params_"
   ]
  },
  {
   "cell_type": "code",
   "execution_count": null,
   "metadata": {
    "collapsed": false,
    "jupyter": {
     "outputs_hidden": false
    }
   },
   "outputs": [],
   "source": [
    "rf_random.best_params_"
   ]
  },
  {
   "cell_type": "code",
   "execution_count": null,
   "metadata": {
    "collapsed": false,
    "jupyter": {
     "outputs_hidden": false
    }
   },
   "outputs": [],
   "source": [
    "from sklearn.model_selection import GridSearchCV# Create the parameter grid based on the results of random search\n",
    "param_grid = {\n",
    "    'bootstrap': [True],\n",
    "    'max_depth': [40, 50, 60],\n",
    "    'max_features': ['sqrt'],\n",
    "    'min_samples_leaf': [3, 4, 5],\n",
    "    'min_samples_split': [9, 10, 11],\n",
    "    'n_estimators': [700, 800, 900]\n",
    "}\n",
    "\n",
    "grid_search = GridSearchCV(estimator=model_rf, param_grid=param_grid, scoring='accuracy',\n",
    "                          cv=3, n_jobs=-1, verbose=2)"
   ]
  },
  {
   "cell_type": "code",
   "execution_count": null,
   "metadata": {
    "collapsed": false,
    "jupyter": {
     "outputs_hidden": false
    }
   },
   "outputs": [],
   "source": [
    "grid_search.fit(features_train_clean, target_train)\n",
    "grid_search.best_params_"
   ]
  },
  {
   "cell_type": "code",
   "execution_count": null,
   "metadata": {
    "collapsed": false,
    "jupyter": {
     "outputs_hidden": false
    }
   },
   "outputs": [],
   "source": [
    "model_rf_best = grid_search.best_estimator_\n",
    "model_rf_best.fit(features_train_clean, target_train)\n",
    "target_test_pred = model_rf_best.predict(features_test_clean)\n",
    "accuracy_score(target_test, target_test_pred)"
   ]
  },
  {
   "cell_type": "code",
   "execution_count": 219,
   "metadata": {
    "collapsed": false,
    "jupyter": {
     "outputs_hidden": false
    }
   },
   "outputs": [],
   "source": [
    "features_aim = pd.read_csv(\"data/raw/test.csv\")\n",
    "features_aim[\"Missingness\"] = features_aim.isna().sum(axis=1)\n",
    "features_aim = features_aim.fillna(features_aim.mode().iloc[0])\n",
    "features_aim[[\"CabinDeck\", \"CabinNumber\", \"CabinSide\"]] = features_aim.Cabin.str.split(\"/\", expand=True)\n",
    "features_aim[[\"GroupId\", \"GroupNum\"]] = features_aim.PassengerId.str.split(\"_\", expand=True)\n",
    "features_aim[[\"FirstName\", \"LastName\"]] = features_aim.loc[:, \"Name\"].str.split(expand=True)\n",
    "features_aim[\"GroupSize\"] = features_aim.groupby(\"GroupId\")[\"GroupId\"].transform(\"count\")\n",
    "features_aim[\"Solo\"] = features_aim.GroupSize == 1\n",
    "features_aim[\"TotalSpending\"] = (\n",
    "    features_aim[\"RoomService\"]\n",
    "    + features_aim[\"FoodCourt\"]\n",
    "    + features_aim[\"ShoppingMall\"]\n",
    "    + features_aim[\"Spa\"]\n",
    "    + features_aim[\"VRDeck\"]\n",
    ")\n",
    "features_aim[\"NoSpending\"] = features_aim[\"TotalSpending\"] == 0"
   ]
  },
  {
   "cell_type": "code",
   "execution_count": 220,
   "metadata": {
    "collapsed": false
   },
   "outputs": [
    {
     "data": {
      "text/plain": [
       "<catboost.core.CatBoostClassifier at 0x7f1cfc6e7520>"
      ]
     },
     "execution_count": 220,
     "metadata": {},
     "output_type": "execute_result"
    }
   ],
   "source": [
    "features_aim_clean = preprocessing.transform(features_aim)\n",
    "features_clean = preprocessing.transform(features)\n",
    "model_cat_best.fit(features_clean, target)"
   ]
  },
  {
   "cell_type": "code",
   "execution_count": 221,
   "metadata": {
    "collapsed": false,
    "jupyter": {
     "outputs_hidden": false
    }
   },
   "outputs": [
    {
     "data": {
      "text/plain": [
       "array([1, 0, 1, ..., 1, 1, 1])"
      ]
     },
     "execution_count": 221,
     "metadata": {},
     "output_type": "execute_result"
    }
   ],
   "source": [
    "target_aim_pred = model_cat_best.predict(features_aim_clean)\n",
    "target_aim_pred"
   ]
  },
  {
   "cell_type": "code",
   "execution_count": 222,
   "metadata": {
    "collapsed": false,
    "jupyter": {
     "outputs_hidden": false
    }
   },
   "outputs": [],
   "source": [
    "submission = pd.DataFrame({\"PassengerId\": features_aim_clean.index, \"Transported\": target_aim_pred})\n",
    "submission[\"Transported\"] = submission[\"Transported\"].astype(bool)\n",
    "submission.to_csv(\"submission_cat_optimized.csv\", index=False)"
   ]
  }
 ],
 "metadata": {
  "kernelspec": {
   "display_name": "Python 3",
   "language": "python",
   "name": "python3"
  },
  "language_info": {
   "codemirror_mode": {
    "name": "ipython",
    "version": 3
   },
   "file_extension": ".py",
   "mimetype": "text/x-python",
   "name": "python",
   "nbconvert_exporter": "python",
   "pygments_lexer": "ipython3",
   "version": "3.6.4"
  }
 },
 "nbformat": 4,
 "nbformat_minor": 4
}
